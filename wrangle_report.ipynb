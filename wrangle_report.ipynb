{
 "cells": [
  {
   "cell_type": "markdown",
   "metadata": {},
   "source": [
    "## Wrangling Report\n",
    "\n",
    "### September 07, 2022"
   ]
  },
  {
   "cell_type": "markdown",
   "metadata": {},
   "source": [
    "## Data Gathering\n",
    "\n",
    "1. I directly downloaded the WeRateDogs Twitter archive data (twitter_archive_enhanced.csv)\n",
    "    - dog_data = pd.read_csv('twitter_archive_enhanced.csv')"
   ]
  },
  {
   "cell_type": "markdown",
   "metadata": {},
   "source": [
    "2. Used the Requests library to download the tweet image prediction (image_predictions.tsv)\n",
    " * using the Requests library and saved obtained data into an image_predictions.tsv then loaded into a DataFrame\n",
    "\n",
    " * image_pred = pd.read_csv('image_predictions.tsv', sep='\\t')"
   ]
  },
  {
   "cell_type": "markdown",
   "metadata": {},
   "source": [
    "3. Used the Tweepy library to query additional data via the Twitter API (tweet_json.txt)\n",
    "  * tweet_count = pd.read_json('tweets.json', lines=True)\n",
    "  * tweet_count = tweet_count[['id','favorite_count','retweet_count']]"
   ]
  },
  {
   "cell_type": "markdown",
   "metadata": {},
   "source": [
    "### Checked the three DataFrames\n",
    "\n",
    "* dog_data.head()\n",
    "> head data of the archieved twitter data\n",
    "* image_pred.head()\n",
    "> head data of the image twitter data\n",
    "* tweet_count.head()\n",
    "> head data from twitter API"
   ]
  },
  {
   "cell_type": "markdown",
   "metadata": {
    "extensions": {
     "jupyter_dashboards": {
      "version": 1,
      "views": {
       "grid_default": {
        "col": 4,
        "height": 4,
        "hidden": false,
        "row": 28,
        "width": 4
       },
       "report_default": {
        "hidden": false
       }
      }
     }
    }
   },
   "source": [
    "## Assessing Summary"
   ]
  },
  {
   "cell_type": "markdown",
   "metadata": {},
   "source": [
    "### Quality issues"
   ]
  },
  {
   "cell_type": "markdown",
   "metadata": {},
   "source": [
    "#### Tweeter archive table (dog_data)\n",
    "1. __tweet_id__ has dtype int64 and should be object\n",
    "2. __timestamp__ should be a datetime64 dtype type as well\n",
    "3. For some doggs, their stages were not specified\n",
    "4. Many missing names in __'Name'__ column, and random names like __'the'__, __'a'__ and __'an'__.\n",
    "5. Keep only original tweets, remove from table retweets and replies \n",
    "6. Some records have more than one dog stage\n",
    "7. Rating_numerator column has values less than 10 as well as some very large numbers \n",
    "8. Rating_denominator column has values way other than 10 (way higher than 10)\n",
    "\n",
    "#### Image prediction (image_pred)\n",
    "1. The types of dogs in columns __p1__, __p2__, and __p3__ should be in lowercase.\n",
    "\n",
    "\n",
    "#### Tweet count table (tweet_count)\n",
    "1. Convert __id__ coulumn to __tweet_id__."
   ]
  },
  {
   "cell_type": "markdown",
   "metadata": {
    "extensions": {
     "jupyter_dashboards": {
      "version": 1,
      "views": {
       "grid_default": {
        "col": 0,
        "height": 7,
        "hidden": false,
        "row": 40,
        "width": 12
       },
       "report_default": {
        "hidden": false
       }
      }
     }
    }
   },
   "source": [
    "### Tidiness issues"
   ]
  },
  {
   "cell_type": "markdown",
   "metadata": {},
   "source": [
    "1. Tweet count table should be merged with tweeter archive table.\n",
    "2. __Source__ column in Tweeter archive table makes table appear rough.\n",
    "3. __Doggo__, __floofer__, __pupper__, __puppo__ columns in __twitter_archive_enhanced__ table should be in one column named __Stage__.\n",
    "4. Drop data without any retweets in tweeter archive table (dog_data)\n",
    "5. All three tables will eventually be merged into one."
   ]
  },
  {
   "cell_type": "markdown",
   "metadata": {
    "extensions": {
     "jupyter_dashboards": {
      "version": 1,
      "views": {
       "grid_default": {
        "col": 4,
        "height": 4,
        "hidden": false,
        "row": 32,
        "width": 4
       },
       "report_default": {
        "hidden": false
       }
      }
     }
    }
   },
   "source": [
    "## Cleaning Data\n",
    "In this section, I cleaned **all** the issues I documented while assessing. \n",
    "\n",
    "I noted to make copies of each table first before cleaning as follows: \n",
    "* dog_data_clean as dog_data.copy()\n",
    "* image_pred_clean as image_pred.copy()\n",
    "* tweet_count_clean as tweet_count.copy()"
   ]
  },
  {
   "cell_type": "markdown",
   "metadata": {},
   "source": [
    "### Issue #1:  Some columns are irrelevant in this analysis and should be dropped"
   ]
  },
  {
   "cell_type": "markdown",
   "metadata": {},
   "source": [
    "#### Define: \n",
    "\n",
    "- I observed that some columns won't be needed in my analysis so I dropped columns so that the table can look a little less messy and more organized"
   ]
  },
  {
   "cell_type": "markdown",
   "metadata": {},
   "source": [
    "### Issue #2: Fix some column names"
   ]
  },
  {
   "cell_type": "markdown",
   "metadata": {
    "collapsed": true,
    "extensions": {
     "jupyter_dashboards": {
      "version": 1,
      "views": {
       "grid_default": {
        "hidden": true
       },
       "report_default": {
        "hidden": true
       }
      }
     }
    }
   },
   "source": [
    "#### Define\n",
    "\n",
    "- Changed column name 'id' in tweet_count table to 'tweet_id' to have a uniform id column across all the 3 tables."
   ]
  },
  {
   "cell_type": "markdown",
   "metadata": {},
   "source": [
    "### Issue #3: Fixing Datatypes."
   ]
  },
  {
   "cell_type": "markdown",
   "metadata": {},
   "source": [
    "#### Define\n",
    "\n",
    "- I converted 'timestamp' in the dog_data table to be in the datetime datatype\n",
    "- Also converted 'favorite_count' and 'retweet_count' in the tweet_count table to integer"
   ]
  },
  {
   "cell_type": "markdown",
   "metadata": {},
   "source": [
    "### Issue #4: Uniform the dog breeds"
   ]
  },
  {
   "cell_type": "markdown",
   "metadata": {},
   "source": [
    "#### Define\n",
    "\n",
    "- Converted all values in p1, p2 and p3 to lower case"
   ]
  },
  {
   "cell_type": "markdown",
   "metadata": {},
   "source": [
    "### Issue #5: Create rating column i.e (rating numerator/rating denominator)"
   ]
  },
  {
   "cell_type": "markdown",
   "metadata": {},
   "source": [
    "#### Define\n",
    "\n",
    "- I created the rating column by dividing the rating numerator by itds denominator to make the table more organized"
   ]
  },
  {
   "cell_type": "markdown",
   "metadata": {},
   "source": [
    "### Issue #6: Create stage column and collapse doggo, floofer, pupper, puppo into stage column"
   ]
  },
  {
   "cell_type": "markdown",
   "metadata": {},
   "source": [
    "#### Define\n",
    "\n",
    "- Here, I created a function that creates the stage column and writes the value of each row from doggo, floofer, pupper and puppo into that stage column. Then i dropped the columns since they it has been recorded in the stage column"
   ]
  },
  {
   "cell_type": "markdown",
   "metadata": {},
   "source": [
    "### Issue #7: Some rows in tweet archive table have dog names as a, an, None, the, fillup, such and quite"
   ]
  },
  {
   "cell_type": "markdown",
   "metadata": {},
   "source": [
    "#### Define\n",
    "\n",
    "- Here, I observed that some rows have unrelated values in the name column such as a, an, None, the, fillup, such and quite, so I dropped those rows"
   ]
  },
  {
   "cell_type": "markdown",
   "metadata": {},
   "source": [
    "### Issue #8: Merge tweet_archive table with the tweet count table"
   ]
  },
  {
   "cell_type": "markdown",
   "metadata": {},
   "source": [
    "#### Define\n",
    " - Here, i merged the tweet_count table to the tweet_archive table(dog_data_cleaned)"
   ]
  }
 ],
 "metadata": {
  "extensions": {
   "jupyter_dashboards": {
    "activeView": "report_default",
    "version": 1,
    "views": {
     "grid_default": {
      "cellMargin": 10,
      "defaultCellHeight": 20,
      "maxColumns": 12,
      "name": "grid",
      "type": "grid"
     },
     "report_default": {
      "name": "report",
      "type": "report"
     }
    }
   }
  },
  "kernelspec": {
   "display_name": "Python 3",
   "language": "python",
   "name": "python3"
  },
  "language_info": {
   "codemirror_mode": {
    "name": "ipython",
    "version": 3
   },
   "file_extension": ".py",
   "mimetype": "text/x-python",
   "name": "python",
   "nbconvert_exporter": "python",
   "pygments_lexer": "ipython3",
   "version": "3.6.3"
  }
 },
 "nbformat": 4,
 "nbformat_minor": 2
}
